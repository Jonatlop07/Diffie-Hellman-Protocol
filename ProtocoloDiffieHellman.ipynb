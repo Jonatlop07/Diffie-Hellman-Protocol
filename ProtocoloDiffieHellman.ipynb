{
  "nbformat": 4,
  "nbformat_minor": 0,
  "metadata": {
    "colab": {
      "name": "proyectoDiscretas.ipynb",
      "provenance": [],
      "collapsed_sections": []
    },
    "kernelspec": {
      "name": "python3",
      "display_name": "Python 3"
    }
  },
  "cells": [
    {
      "cell_type": "markdown",
      "metadata": {
        "id": "V9U2cMM11c2V"
      },
      "source": [
        "# **Protocolo Diffie-Hellman para obtención de llaves comunes y cifrado de mensajes a partir de AES** \n",
        "**Jonathan Lopez Castellanos -**\n",
        "**Nicolas Arevalo Rodriguez**"
      ]
    },
    {
      "cell_type": "markdown",
      "metadata": {
        "id": "wq5HgoKQAwXm"
      },
      "source": [
        "### **Introducción**"
      ]
    },
    {
      "cell_type": "markdown",
      "metadata": {
        "id": "FWew4T9DAwTf"
      },
      "source": [
        "En canales inseguros de comunicación, suele surgir la necesidad de comunicar información entre dos o más partes sin que agentes externos puedan acceder a la misma. Por ende, es necesario un método que contribuya a la solución de dicha necesidad.\n",
        "\n",
        "El **protocolo criptográfico Diffie-Hellman** es un método de intercambio de claves simétricas cuya base es un algoritmo que permite la comunicación segura, en un canal de comunicación inseguro, mediante la generación de una clave secreta compartida a través del intercambio de claves públicas generadas por los participantes. Este algoritmo fue creado por Wittfield Diffie y Martin Hellman, y publicado en 1976. Actualmente, el protocolo Diffie-Hellman forma parte del estándar IPsec (Internet Protocol Security), el cual es un conjunto de protocolos cuyo fin es el de garantizar las comunicaciones seguras sobre el Protocolo de Internet (IP).\n",
        "\n",
        "El problema específico a abordar es el siguiente:\n",
        "\n",
        "Dos compañías requieren transmitirse información importante de forma segura. Sin embargo, para ello cuentan únicamente con un canal de comunicación que no tiene seguridad alguna. Ambas partes concuerdan en usar algún tipo de cifrado simétrico para ocultar la información que se transmite. Por lo tanto, se ven en la necesidad de encontrar una alternativa que les permita generar algún tipo de llave que sólo estos puedan conocer para realizar un cifrado seguro.\n",
        "\n",
        "Teniendo en cuenta lo anterior, es necesario que, dado que el canal es inseguro, el hecho de que un agente tercero obtenga el mensaje encriptado no implique que pueda desencriptarlo en un tiempo no muy largo. Para este fin se emplearán: el protocolo Diffie-Hellman, encargado de la generación de la clave secreta, la función hash **SHA-256** para la conversión de esta a 256 bits (32 bytes), y que sea apta para el método de encriptación **AES** (Advanced Encryption Standard) actual, llamado Rijndael, para cifrar los mensajes de forma segura."
      ]
    },
    {
      "cell_type": "markdown",
      "metadata": {
        "id": "zTjDI4tUBm_t"
      },
      "source": [
        "### **Estado del arte**"
      ]
    },
    {
      "cell_type": "markdown",
      "metadata": {
        "id": "bacHuW5bBvQU"
      },
      "source": [
        "La comunicación entre dos partes en una red pública requiere de un protocolo de intercambio de claves para evitar el acceso no autorizado o la divulgación de la información durante el proceso. Una transmisión segura significa cifrar el mensaje con una clave de cifrado y luego enviarlo de una parte a otra. El problema radica en cómo entregar la clave entre estas dos partes de forma segura. Diffie Hellman es uno de los primeros protocolos de establecimiento de claves, sin embargo, no proporciona autenticación de las partes que se comunican, por lo tanto es vulnerable a ataques de tipo *Man-in-the-middle*; esta vulnerabilidad se puede evitar con el uso de mecanismos de autenticación como firmas digitales o certificados de clave pública. Teniendo en cuenta lo dicho, se han desarrollado protocolos basados en Diffie Hellman que permiten la autenticación de las partes, uno de estos es el protocolo Station-to-Station (***STS***) donde las partes pueden calcular una clave secreta usando *DH* y luego autenticarse mutuamente usando firmas digitales.\n",
        "Entre otros tipos de protocolos para intercambio de claves se encuentra los acuerdos de clave autenticada basado en ID (***ID-KEX***), donde la clave pública puede ser elegida por cualquiera de las partes, luego cada parte se contacta con una autoridad de confianza una vez para autenticarse y obtener la clave privada requerida, por lo tanto no existe una distribución anterior de claves entre las partes; y el protocolo de enlace Secure Socket Layer (antecesor de TLS o Transport Layer Security) o ***SSL***, que utiliza certificados e infraestructura de llave pública para la autenticación mutua y el intercambio de claves. \n",
        "\n",
        "Diffie Hellman ha sido ampliamente utilizado junto con el esquema de cifrado AES para mejorar la seguridad en la transferencia de datos en diferentes contextos, especialmente en redes y actualmente computación en la nube. Dentro de algunos modelos propuestos se encuentra el de *Jharbade y Shrivastava* (2012) donde se propone un nuevo modelo de seguridad basado en la red que utiliza *DH* para compartir la clave secreta entre dos partes y la misma clave generada se usa en AES-256 para la generación de claves. Similar a este modelo, *Bhavani y Krishna* (2019) proponen un modelo que combina el intercambio asimetrico de claves de *DH* con una versión modificada de AES; el modelo consiste en la generación de una clave compartida y un número aleatorio utilizando *DH*, luego utilizando el número aleatorio se generan S-Boxes dinámicas para luego realizar AES a partir de estas. \n",
        "\n",
        "Dentro de los modelos enfocados a la transmisión de datos en la nube se encuentra el de *Sophia y Prabakeran* (2016), donde se utiliza un criptosistema de agregación de claves para la obtención de claves y posterior cifrado, a partir de estas, utilizando AES, de datos que se encuentran en la nube; para este caso el propietario de los datos envía las claves a usuarios autenticados utilizando *DH* para el posterior desencriptado y acceso a los datos. Por otra parte, *Rewagad y Pawar* (2013) proponen un modelo para almacenamiento de datos en la nube utilizando un esquema de seguridad de tres vías. En este modelo, se tienen dos servidores, uno para el encriptamiento y el otro para el almacenamiento de datos; el proceso realizado consiste en el uso de *DH* para obtención de claves al momento del login, luego el usuario es autenticado mediante firmas digitales, finalmente los datos son encriptados mediantes AES, para unicamente después de esto realizar su almacenamiento en el servidor de la nube. \n",
        "\n",
        "Claramente, a partir de lo anterior se puede concluir que es recomendable utilizar algún método de autenticación al establecer claves mediante el protocolo Diffie Hellman. Para este caso, sin embargo, se omitirá la autenticación de las partes por cuestiones de tiempo y complejidad.\n"
      ]
    },
    {
      "cell_type": "markdown",
      "metadata": {
        "id": "LI8bOSXHBvxH"
      },
      "source": [
        "### **Materiales y métodos**"
      ]
    },
    {
      "cell_type": "markdown",
      "metadata": {
        "id": "kUhEDh5sB3Iz"
      },
      "source": [
        "#### Descripción de los datos:\n",
        "\n",
        "*   Módulo (denotado como $p$) $:=$ Número primo mayor a 2048 bits\n",
        "*   Base (denotada como $g$) $:=$ Número coprimo y menor a $p$.\n",
        "*   Claves $a$ y $b$, menores a $p$ correspondientes a cada parte.\n",
        "*   Clave privada $k$, resultado de emplear el algoritmo de Diffie-Hellman.\n",
        "\n",
        "Los datos $p$, $g$, $a$, y $b$ son públicos, puesto que un agente externo puede acceder a estos. Sin embargo, la clave $k$ es la que se emplea para realizar el cifrado y la búsqueda de la misma tiene una complejidad computacional muy alta. \n"
      ]
    },
    {
      "cell_type": "markdown",
      "metadata": {
        "id": "dp5fDfg1RD5G"
      },
      "source": [
        "#### Descripción matemática de los métodos:\n",
        "\n",
        "Protocolo Diffie-Hellman:\n",
        "\n",
        "*   La elección del número primo $p$ se hace con el fin de trabajar sobre el grupo $\\mathbb{M}_p$. Este es el grupo de los enteros bajo la multiplicación módulo p. $\\mathbb{M}_p = (\\{1, 2, ..., p - 1\\}, \\cdot)$.\n",
        "*   El entero $g$ ha de ser un **generador** de elementos de $\\mathbb{M}_p$. Es decir, existen $x_i \\in \\mathbb{Z}$, tal que $g^{x_i}=k_i$, donde $k_i \\in \\mathbb{M}_p$, y $x_i < p$. Denotamos como $\\langle g \\rangle$ al subgrupo cíclico de $\\mathbb{M}_p$ generado por $g$, cuyos elementos son potencias $x_i$ de $g$. Entonces, $\\langle g \\rangle = (\\{g^{x_1}, g^{x_2},..., g^{x_n}\\}, \\cdot) \\leq \\mathbb{M}_p$ (para esto se tiene que cumplir que $1 \\in \\langle g \\rangle$).\n",
        "*   Al momento de elegir $g$, es necesario que este sea **coprimo** a $p$, es decir, que $MCD(p, g)=1$.\n",
        "\n",
        "El protocolo de intercambio de claves Diffie-Hellman consiste en las siguientes operaciones:\n",
        "\n",
        "*   Cálculo de las claves públicas a intercambiar: $A = g^a\\mod{p}$ y $B = g^b\\mod{p}$.\n",
        "*   Cálculo de la clave simétrica secreta: \n",
        "$$K_1 = B^a\\mod{p}=(g^b\\mod{p})^a\\mod{p}=g^{ba}\\mod{p}$$\n",
        "$$K_2 = A^b\\mod{p}=(g^a\\mod{p})^b\\mod{p}=g^{ab}\\mod{p}$$\n",
        "\n",
        "Luego, dado que la multiplicación módulo n es conmutativa, $K_1 = K_2 = K$. Es decir, $K$ es una clave simétrica.\n",
        "\n",
        "Para obtener los valores $a$ o $b$ a partir de $A$ o $B$, se requiere calcular el **logaritmo discreto**. Este se define como:\n",
        "\n",
        "Sea $g^a = c$, entonces $log_g(c) = a$.\n",
        "\n",
        "Este logaritmo es propio de la teoría de grupos, y dado que el algoritmo emplea exponenciación modular, si se elige un $p$ muy grande (más de 2048 bits), esto hace que el cálculo de $a$ (o $b$) sea computacionalmente irresoluble, puesto que la ecuación $g^a \\mod{p}= c$ tiene un número demasiado grande de posibles soluciones.\n"
      ]
    },
    {
      "cell_type": "markdown",
      "metadata": {
        "id": "7_Tn5QAIiPaO"
      },
      "source": [
        "Función hash SHA-256:\n",
        "\n",
        "Las siguientes son operaciones sobre palabras de 32 bits, con base 2:\n",
        "\n",
        "*   Operaciones booleanas AND y XOR, cuya respectiva notación es $\\land$ y $\\oplus$, respectivamente.\n",
        "*   Complemento bit a bit, denotado como $^-$.\n",
        "*   Adición entera módulo 32, denotada como X + Y.\n",
        "*   $RotR(A,n)$, desplazamiento circular de $n$ bits a la derecha, de la $A$.\n",
        "*   $ShR(A,n)$, desplazamiento de $n$ bitas a la derecha, de la palabra $A$. \n",
        "*   $A||B$ concatenación de la palabra A con la palabra B.\n",
        "\n",
        "Las siguientes funciones, que aplican las operaciones expuestas arriba, se emplean en el algoritmo de la función hash:\n",
        "\n",
        "*   $Ch(X,Y,Z)=(X\\land Y)\\oplus(\\bar{X}\\land Z)$\n",
        "*   $Maj(X,Y,Z)=(X\\land Y)\\oplus(X\\land Z)\\oplus(Y\\land Z)$\n",
        "*   $\\Sigma_0(X)=RotR(X,2)\\oplus RotR(X, 13)\\oplus RotR(X, 22)$\n",
        "*   $\\Sigma_1(X)=RotR(X,6)\\oplus RotR(X,11)\\oplus RotR(X,25)$\n",
        "*   $\\sigma_0(X)=RotR(X,7)\\oplus RotR(X, 18)\\oplus ShR(X,3)$\n",
        "*   $\\sigma_1(X)=RotR(X,17)\\oplus RotR(X,19)\\oplus ShR(X,10)$\n",
        "\n",
        "Así mismo, se emplean como constantes, denotadas $K_i$ (pues son llaves o *keys*), a las palabras de 64 bits, dadas por los primeros 32 bits de la parte decimal de las raíces cúbicas de los primeros 64 números primos.\n",
        "\n",
        "![picture](https://drive.google.com/uc?export=view&id=1NcGIU6pavnrWhjPakrLY6U9W7sXO1jnV)"
      ]
    },
    {
      "cell_type": "markdown",
      "metadata": {
        "id": "sHfi_D0D2HdH"
      },
      "source": [
        "### Descripción del algoritmo Diffie-Hellman\n",
        "\n",
        "El algoritmo para el intercambio de claves Diffie-Hellman, consiste en la siguiente serie de pasos:\n",
        "\n",
        "1.   Para el caso base, se tienen dos partes o agentes que realizan el intercambio de información. Para ser consistentes con la notación matemática, estas dos partes se denominan $P_A$ y $P_B$.\n",
        "2.   Una de las dos partes define $p$ y $g$ (supongamos que $P_A$).\n",
        "3. Ambas partes eligen su respectiva clave privada ($a$ y $b$ en este caso).\n",
        "4. $P_A$ calcula la clave pública $A$ y la envía a $P_B$ junto con $p$ y $g$.\n",
        "5. $P_B$ calcula la clave pública $B$, a partir de $p$ y $g$, y la comparte con $P_A$.\n",
        "6. $P_A$ y $P_B$ calculan la clave secreta $K$ (simétrica) a partir de las claves públicas que intercambiaron.\n",
        "\n",
        "Para la exposición del algoritmo programado en Python, \n",
        "se tomó $p$ como un **primo seguro** o *safe prime* de 2048 bits, el cual es de\n",
        "la forma $p = 2k + 1$, siendo $k$ primo. La razón: encontrar un $g$ que cumpla con la\n",
        "condición de que sea coprimo y que genere un número grande de elementos\n",
        "de $\\mathbb{M}_p$ es un procedimiento muy costoso computacionalmente,\n",
        "pues primero hay que encontrar un $q$ coprimo a $p$, luego se calculan los elementos\n",
        "de $\\langle q \\rangle$ y se verifica que $|\\langle q \\rangle|$ sea suficientemente\n",
        "grande con respecto a $p-1$, lo cual es un procedimiento de complejidad $O(log(n)\\cdot n^2)$\n",
        "(y n es un número bastante grande).\n",
        "Si $p$ es un primo seguro, la elección de 4  como generador $g$ es aceptable *únicamente\n",
        "con fines de demostración* (puesto que toma solo $O(1)$ operaciones), porque en la\n",
        "práctica, existen algoritmos de ataque que reducen bastante el tiempo de computación que toma hallar la clave privada en cuestión.\n",
        "\n",
        "\n",
        "Puesto que ambas partes tienen una clave secreta, pueden disponer de un algoritmo de cifrado para enviar sus mensajes de manera segura, y poder cifrar y descifrarlos con la clave $K$. El algoritmo a emplear para este proyecto es **AES**, el cual toma una clave de 128 ó 256 bits, el mensaje a comunicar, y realiza el respectivo cifrado o descifrado.\n",
        "\n",
        "Sin embargo, puesto que $K$ es una clave de mínimo 2048 bits, esta debe ser reducida a 128 ó 256 bits. Para lograr esto, se emplea el hash SHA-256, que permite transformar la clave a un formato de 256 bits."
      ]
    },
    {
      "cell_type": "markdown",
      "metadata": {
        "id": "W6NAjPmfFJzz"
      },
      "source": [
        "### Descripción del algoritmo de la función hash SHA-256\n",
        "SHA-256 es una función criptográfica de hash, la cual genera una firma única de 256 bits o 32 bytes, para un texto o cadena de bits de entrada. La entrada de esta función es procesada en bloques de 512 = 16 x 32 bits. Cada bloque requiere 64 iteraciones de procesamiento, con el fin de hacer de esta una función de hash segura.\n",
        "\n",
        "1.   Se define un mensaje, el cual es el parámetro de entrada de la función hash.\n",
        "2.   La representación en bits del mensaje se denota como $m$, y el número inicial de bits como $l<2^{64}$, para asegurarse que $l$ sea un múltiplo de 512:\n",
        "\n",
        "> a. Se concatena un bit 1 al final de $m$\n",
        "\n",
        "> b. Se concatenan $k$ bits 0 al final de $m$. $k$ debe ser el menor entero positivo para el que se cumple que $l + 1 + k = 448\\mod{512}$\n",
        "\n",
        "> c. Finalmente, $l$ es representada con exactamente 64 bits, los cuales se añaden al final del mensaje.\n",
        "\n",
        "3. Lo siguiente es el procedimiento de compresión. Para cada bloque $M \\in \\{0,1\\}^{512}$, se construyen 64 palabras de 32 bits cada una:\n",
        "\n",
        "> a. Las primeras 16 palabras se obtienen particionando $M$ en bloques de 32 bits:\n",
        "\n",
        "$$M=P_1||P_2||\\cdots ||P_{16}$$\n",
        "\n",
        "> b. Las 48 palabras restantes se obtienen con la fórmula:\n",
        "\n",
        "$$P_i=\\sigma_1(P_{i-2})+P_{i-7}+\\sigma_0(P_{i-15})+P_{i-16}$$\n",
        "\n",
        "Donde $17 \\leq i \\leq 64$.\n",
        "\n",
        "4. Para el cálculo del hash, primero se deben inicializar las siguientes ocho variables, los 32 primeros bits de la raiz cuadrada de cada uno de los ocho primeros números primos:\n",
        "\n",
        "$$H_1^{(0)}= 0x6a09e667, H_2^{(0)}=0xbb67ae85, H_3^{(0)}=0x3c6ef372, H_4^{(0)}=0xa54ff53a$$\n",
        "$$H_5^{(0)}=0x510e527f, H_6^{(0)}=0x9b05688c, H_7^{(0)}=0x1f83d9ab, H_8^{(0)}=0x5be0cd19$$\n",
        "\n",
        "5. Luego, los bloques $M^{(1)}, M^{(2)}, ..., M^{(n)}$ se procesan en n iteraciones. Sea $t=1$ hasta $n$:\n",
        ">- Se construyen los 64 bloques $P_i$ a partir de $M^{(t)}$ como se indicó en el paso 3.\n",
        ">- Se modifican las siguientes variables:\n",
        "$$(a, b, c, d, e, f, g, h)=(H_1^{(t-1)}, H_2^{(t-1)}, H_3^{(t-1)}, H_4^{(t-1)}, H_5^{(t-1)}, H_6^{(t-1)}, H_7^{(t-1)}, H_8^{(t-1)})$$\n",
        ">- Se realizan las 64 iteraciones, cada una con el siguiente procedimiento:\n",
        "\n",
        "$$\n",
        "\\begin{split}\n",
        "T_1&=h+\\Sigma_1(e)+Ch(e,f,g)+K_i+P_i \\\\\n",
        "T_2&=\\Sigma_0(a)+M_{aj}(a,b,c) \\\\\n",
        "h&=g \\\\\n",
        "g&=f \\\\\n",
        "f&=e \\\\\n",
        "e&=d+T_1 \\\\\n",
        "d&=c \\\\\n",
        "c&=b \\\\\n",
        "b&=a \\\\\n",
        "a&=T_1+T_2 \\\\\n",
        "\\end{split}\n",
        "$$ \\\\\n",
        "\n",
        "\n",
        "A continuación se presenta una ilustración del procedimiento anterior (Aquí la notación $W_i$ equivale a $P_i$ de *word* o palabra, respectivamente.\n",
        "\n",
        "<center>\n",
        "\n",
        "![picture](https://drive.google.com/uc?export=view&id=13xDWLYlwVAWTZnCsHXvIKJ1yEKjspwRI) [1]\n",
        "</center>\n",
        "\n",
        ">- Se calcula el nuevo valor de las variables $H_i$:\n",
        "\n",
        "$$\n",
        "\\begin{split}\n",
        "H_1^{(t)}&=H_1^{(t-1)}+a \\\\\n",
        "H_2^{(t)}&=H_2^{(t-1)}+b \\\\\n",
        "H_3^{(t)}&=H_3^{(t-1)}+c \\\\\n",
        "H_4^{(t)}&=H_4^{(t-1)}+d \\\\\n",
        "H_5^{(t)}&=H_5^{(t-1)}+e \\\\\n",
        "H_6^{(t)}&=H_6^{(t-1)}+f \\\\\n",
        "H_7^{(t)}&=H_7^{(t-1)}+g \\\\\n",
        "H_8^{(t)}&=H_8^{(t-1)}+h \\\\\n",
        "\\end{split} \\\\\n",
        "$$\n",
        "\n",
        "6. Finaliza el procedimiento, y se concatenan las variables $H_i^{n}$ luego de que el último bloque haya sido procesado:\n",
        "\n",
        "$$H=H_1^{(n)}||H_2^{(n)}||H_3^{(n)}||H_4^{(n)}||H_5^{(n)}||H_6^{(n)}||H_7^{(n)}||H_8^{(n)}$$\n",
        "\n",
        "Donde $H$ es el hash que retorna la función SHA-256.\n",
        "\n",
        "\n",
        "\n",
        "\n",
        "\n",
        "\n",
        "\n"
      ]
    },
    {
      "cell_type": "markdown",
      "metadata": {
        "id": "ZdXzgxjdFPaJ"
      },
      "source": [
        "### Descripción del algoritmo de cifrado Rjindael o AES\n",
        "\n",
        "AES es un esquema de cifrado que se basa en el cifrado por bloques, donde se trabaja sobre segmentos de datos de texto de longitud fija. Usualmente la entrada son bloques de 128 bits, pero en ocasiones pueden ser de 192 y 256 bits y la salida es un texto cifrado. Teniendo en cuenta lo anterior, un mensaje se divide en bloques y cada bloque se cifra mediante algun tipo de operaciones de sustitución.\n",
        "\n",
        "Como se mencionó antes, AES recibe una llave que puede ser de 128, 192 o 256 bits y un mensaje, este mensaje va a ser encriptado utilizando la llave. \n",
        "Para realizar la division del mensaje en bloques de 128, 192 o 256 bits es necesario que su tamaño sea multiplo de 16 octetos. En ocasiones el mensaje puede no contar con esta propiedad, para lo cual es necesario agregar una determinada cantidad de caracteres a este con tal de que su tamaño sea multiplo de 16 octetos, a estos caracteres se les llama **padding**.\n",
        "\n",
        "Las operaciones realizadas en AES se ejecutan sobre arreglos rectangulares de bytes de cuatro filas y su numero de columnas sera igual a la longitud del bloque dividida por 32. Luego, los 16, 24 o 32 bytes de cada división de texto se arreglan en una matriz de manera ordenada. \n",
        "La llave de cifrado se representa de manera similar como una matriz rectangular de cuatro filas y el número de columnas es igual a la longitud de la clave dividida por 32. \n",
        "\n",
        "Principalmente, AES consiste de multiples rondas de transformaciones; a cada ronda le corresponde una llave específica la cual se va a utilizar en algunas de las operaciones necesarias para el cifrado en esa ronda. Estas llaves se derivan de la llave de cifrado por medio de una función de expansión de la llave y para cada ronda se selecciona un numero fijo de palabras de la llave expandida a partir del numero de columnas del bloque de texto obtenido (mensaje), esta será la llave de ronda. Dependiendo del tamaño de la llave de cifrado, se realizan diferentes cantidades de rondas:\n",
        "1. Para una llave de 128 bits, se realizan 10 rondas.\n",
        "2. Para una llave de 192 bits, se realizan 12 rondas.\n",
        "3. Para una llave de 256 bits, se realizan 14 rondas. \n",
        "\n",
        "A partir de lo anterior, se puede concluir que AES consiste de cuatro etapas:\n",
        "\n",
        "1. Expansión de la clave de cifrado.\n",
        "2. Cada byte del bloque de texto se opera mediante el operador XOR u OR exclusivo con el byte en la posición correspondiente del bloque de la llave de cifrado.  \n",
        "3. Rondas: Las operaciones realizadas en cada ronda son:\n",
        " 1. Sustitución de bytes: Cada uno de los bytes de la matriz se sustituye por un valor perteneciente a una \"matriz de sustitución\" implementada como una lookup table, denominada **S-Box**, de manera que el byte correspondiente a la posición $i,j$ del bloque se sustituye por el valor de la S-Box en la misma posición. \n",
        " 2. Cambio de filas: Las filas del bloque se desplazan de manera ciclica un número determinado de veces.\n",
        "\n",
        ">>>La fila 0 no se desplaza.\n",
        "\n",
        ">>>La fila 1 se desplaza por 1 byte. \n",
        "\n",
        ">>>La fila 2 se desplaza por $C2$ bytes. Donde $C2$ puede ser 2, 2 o 3 bytes si el número de columnas es 4, 6, u 8 respectivamente.\n",
        "\n",
        ">>>La fila 3 se desplaza por $C3$ bytes. Donde $C3$ puede ser 3, 3 o 4 bytes si el numero de columnas es 4, 6, u 8 respectivamente.\n",
        "\n",
        ">3. Cambio de columnas: Se cambian los valores de cada columna del bloque, utilizando multiplicacion modular para multiplicar cada uno de los elementos de la columna, en el Campo de Galois $GF(2^8)$, por una matriz dada. \n",
        ">4. Adición de la llave de ronda:  Cada byte del bloque se combina con un byte de la llave de esa ronda mediante la operación lógica XOR o OR exclusivo.\n",
        "\n",
        ">Independientemente del número de rondas, estas cuatro operaciones se van a repetir para las primreras **n-1** rondas, donde **n** es el número de rondas. \n",
        "\n",
        "4. Etapa final: La última ronda es ligeramente diferente ya que en esta no se realiza el paso de cambio de columnas. Una vez se terminan todas las rondas, se obtiene la salida que es el texto cifrado.\n",
        "\n",
        "El proceso descrito anteriormente se muestra a continuación:\n",
        "\n",
        "<center>\n",
        "\n",
        "![picture](https://www.researchgate.net/profile/Muhammad_Mushtaq31/publication/321494910/figure/fig5/AS:568031056273408@1512440565027/Advanced-Encryption-Standard-AES-Algorithm.png) [2]\n",
        "</center>\n",
        "\n",
        "AES puede trabajar sobre diferentes modos de operación, que definen la manera en que se realiza el cifrado por bloques; para este caso, **se utilizó el modo CBC o Cipher Block Chaining**. \n",
        "\n",
        "El modo Cipher Block Chaining hace uso de la operación lógica del OR exclusivo y un metodo de cifrado por bloques, que en este caso sería AES para obtener el texto cifrado. Dentro de los parametros utilizados se encuentran los bloques de texto plano y un llamado vector de inicialización, que consiste de un conjunto de bits aleatorios cuyo tamaño es igual al tamaño del bloque. \n",
        "Como su nombre lo dice, el modo CBC incluye cierto tipo de encadenamiento de bloques, el procedimiento realizado en este se describe a continuación:\n",
        "\n",
        "Suponga que se tienen $n$ bloques de texto plano y un vector de inicialización $IV$. \n",
        "\n",
        "1. Inicialmente, se modifica el primer bloque de texto realizando una operación XOR con $IV$, el vector de inicialización. \n",
        "2. El resultado de esta operación entre el primer bloque e $IV$ luego es encriptado utilizando AES y a partir de esto se obtiene el primer bloque de texto cifrado. \n",
        "3. Luego, para el segundo bloque, la operación XOR se realiza con el bloque de texto cifrado obtenido del primer bloque, es decir, ya no se utiliza el vector de inicialización, $IV$.\n",
        "4. El resultado de la operacion entre el bloque de texto cifrado obtenido a partir del primer bloque y el segundo bloque de texto, luego es encriptado utilizando AES y a partir de esto se obtiene el segundo bloque de texto cifrado. \n",
        "5. Para el tercer bloque de texto, la operación XOR se realiza con el bloque de texto cifrado obtenido en el paso anterior.\n",
        "6. El resultado de la operación entre el bloque de texto cifrado obtenido a partir del segundo bloque y el tercer bloque de texto, luego es encriptado utilizando AES para obtener el tercer bloque de texto cifrado. \n",
        "7. Se repite el proceso de encadenamiento y cifrado hasta llegar al bloque $n$, que realizará la operación XOR con el bloque cifrado obtenido a partir del bloque de texto $n-1$.\n",
        "8. El resultado de la operación es encriptado utilizando AES para obtener el último bloque de texto cifrado. \n",
        "\n",
        "El proceso de descifrado para el modo CBC funciona de manera inversa. Después de descifrar el último bloque de texto cifrado (bloque $n$), se realiza la operación XOR entre este y el bloque de texto cifrado anterior (obtenido a partir del bloque $n-1$) para recuperar el bloque de texto original ($n$). Este proceso se repite para todos los demás bloques.\n",
        "\n",
        "A continuación se presenta una ilustración del funcionamiento del modo CBC:\n",
        "\n",
        "<center>\n",
        "\n",
        "![picture](https://upload.wikimedia.org/wikipedia/commons/thumb/8/80/CBC_encryption.svg/600px-CBC_encryption.svg.png) [3]\n",
        "</center>\n",
        "\n"
      ]
    },
    {
      "cell_type": "markdown",
      "metadata": {
        "id": "aLiy9JziB4Jc"
      },
      "source": [
        "### **Resultado**"
      ]
    },
    {
      "cell_type": "code",
      "metadata": {
        "colab": {
          "base_uri": "https://localhost:8080/"
        },
        "id": "CNEA5FUdFX-Y",
        "outputId": "a36712e9-8a9d-49a2-a7e9-990bd4bc0945"
      },
      "source": [
        "#!pip install pycryptodome\n",
        "#!pip install gensafeprime\n",
        "import gensafeprime\n",
        "import hashlib\n",
        "import random\n",
        "import Crypto\n",
        "from Crypto.Cipher import AES\n",
        "from Crypto import Random\n",
        "from base64 import b64encode, b64decode\n",
        "#from Crypto.Util import number\n",
        "\n",
        "def pad(msg):\n",
        "  bloque = AES.block_size\n",
        "  numBytes = bloque - len(msg) % bloque\n",
        "  #print(numBytes)\n",
        "  asc = chr(numBytes)\n",
        "  #print(asc)\n",
        "  padStr = numBytes * asc\n",
        "  #print(padStr)\n",
        "  textoPad = msg + padStr\n",
        "  #print(textoPad)\n",
        "  return textoPad\n",
        "\n",
        "def quitarPad(decrpMsg):\n",
        "  inicio = decrpMsg[len(decrpMsg)- 1:]\n",
        "  bytesRemover = ord(inicio)\n",
        "  return decrpMsg[:-bytesRemover]\n",
        "\n",
        "\n",
        "def cifrar(msg, llaveHash):\n",
        "  bloque = AES.block_size\n",
        "  padMsg = pad(msg)\n",
        "  initV = Random.new().read(bloque)\n",
        "  #print(initV)\n",
        "  cifrador = AES.new(llaveHash, AES.MODE_CBC, initV)\n",
        "  mensajeCifrado = cifrador.encrypt(padMsg.encode())\n",
        "  #print(mensajeCifrado)\n",
        "  print(b64encode(initV + mensajeCifrado).decode(\"utf-8\"))\n",
        "  return b64encode(initV + mensajeCifrado).decode(\"utf-8\")\n",
        "\n",
        "def descrifrar(msgCifrado, llaveHash):\n",
        "  bloque = AES.block_size\n",
        "  mensajeCifrado = b64decode(msgCifrado)\n",
        "  #print(mensajeCifrado)\n",
        "  initV = mensajeCifrado[:bloque]\n",
        "  cifradorD = AES.new(llaveHash, AES.MODE_CBC, initV)\n",
        "  padMsg = cifradorD.decrypt(mensajeCifrado[bloque:]).decode(\"utf-8\")\n",
        "  print(quitarPad(padMsg))\n",
        "  #return quitarPad(padMsg)\n",
        "  \n",
        "p = gensafeprime.generate(2048)\n",
        "g = 4\n",
        "\n",
        "a = random.randint(2, p - 1)\n",
        "b = random.randint(2, p - 1)\n",
        "\n",
        "A = pow(g, a, p)\n",
        "B = pow(g, b, p)\n",
        "\n",
        "print(\"Cada una de las partes obtiene la llave acordada a partir de la clave pública del otro, su propio número secreto y el número primo acordado.\")\n",
        "AK = pow(B, a, p)\n",
        "BK = pow(A, b, p)\n",
        "\n",
        "#print(AK, BK)\n",
        "\n",
        "mensaje = \"Este es un mensaje secreto\"\n",
        "llaveAlice = hashlib.sha256(str(AK).encode()).digest()\n",
        "llaveBob = hashlib.sha256(str(BK).encode()).digest()\n",
        "print(\"\\nAlice ha utilizado la llave acordada mediante DH para cifrar el mensaje. El resultado del cifrado es:\")\n",
        "message = cifrar(mensaje, llaveAlice)\n",
        "print(\"\\nBob usa la llave acordada para descifrar el texto encriptado recibido. Al descifrar el texto, el mensaje obtenido fue:\")\n",
        "descrifrar(message, llaveBob)\n",
        "\n",
        "print(\"\\n \\nEn el segundo caso, Bob es quien utiliza la llave acordada para cifrar el mensaje. El resultado del cifrado fue:\")\n",
        "messageBob = cifrar(mensaje, llaveBob)\n",
        "print(\"\\nAhora Alice es quien utiliza la llave acordada para descrifrar el texto encriptado. El mensaje obtenido es el mismo:\")\n",
        "descrifrar(messageBob, llaveAlice)\n",
        "\n"
      ],
      "execution_count": null,
      "outputs": [
        {
          "output_type": "stream",
          "text": [
            "Cada una de las partes obtiene la llave acordada a partir de la clave pública del otro, su propio número secreto y el número primo acordado.\n",
            "\n",
            "Alice ha utilizado la llave acordada mediante DH para cifrar el mensaje. El resultado del cifrado es:\n",
            "Bbv8qzduK8q/sYleOpxBaSq420UzSP9VxHBDyrVn9rNBWuOujukAzuXF5yEmt7m6\n",
            "\n",
            "Bob usa la llave acordada para descifrar el texto encriptado recibido. Al descifrar el texto, el mensaje obtenido fue:\n",
            "Este es un mensaje secreto\n",
            "\n",
            " \n",
            "En el segundo caso, Bob es quien utiliza la llave acordada para cifrar el mensaje. El resultado del cifrado fue:\n",
            "GBM2VIyuktzUVYp1i6HtdG+M4E1HI/FtUPmD5mO3LafY5q+FuG929nXLb2Nsq2fe\n",
            "\n",
            "Ahora Alice es quien utiliza la llave acordada para descrifrar el texto encriptado. El mensaje obtenido es el mismo:\n",
            "Este es un mensaje secreto\n"
          ],
          "name": "stdout"
        }
      ]
    },
    {
      "cell_type": "markdown",
      "metadata": {
        "id": "Ij0FnfxWCBom"
      },
      "source": [
        "### **Conclusiones**"
      ]
    },
    {
      "cell_type": "markdown",
      "metadata": {
        "id": "Z9XBR5WgCGq_"
      },
      "source": [
        "El protocolo criptografico Diffie Hellman permite el establecimiento de claves entre dos o más partes en un canal de comunicación inseguro, esto permite obtener llaves de cifrado altamente confiables para el cifrado de mensajes en una conversación entre las partes. La seguridad del protocolo radica en la complejidad del cálculo del logaritmo discreto, que en este caso, para primos suficientemente grandes tiene un número bastante grande de posibles soluciones. Para esta implementación, se utilizaron primos seguros de 2048 bits, teniendo en cuenta que en la actualidad el estandar está definido por el uso de primos de por lo menos este tamaño. \n",
        "\n",
        "El cifrado de mensajes se realizó a partir del esquema de cifrado por bloques AES, utilizando el modo de Cipher Block Chaining (CBC). Teniendo en cuenta que este tipo de cifrado trabaja con llaves de 128, 192 o 256 bits, se utilizó la funcion hash SHA-256, parte del conjunto de funciones SHA-2, para la obtención de una llave de 256 bits a partir de la clave obtenida al utilizar el protocolo Diffie Hellman.\n",
        "\n",
        "Como resultado, se presentó el escenario donde dos partes acuerdan una clave común utilizando Diffie Hellman, luego una de estas la utiliza para cifrar cierto mensaje, el cual es enviado a la otra parte, que utilizará la misma clave para realizar el proceso de desencriptado y obtener el mensaje inicial. \n",
        "\n",
        "Diffie Hellman es ampliamente utilizado en la actualidad para el establecimiento de claves, requeridas en esquemas de cifrado para mejorar la seguridad en la transferencia de datos en diferentes contextos. Como referente, actualmente el protocolo de seguridad de la capa de transporte (TLS) utiliza en ocasiones Diffie Hellman para la obtención de claves de encriptado en la transmisión de datos a través de la red. \n",
        "\n",
        "A pesar de la alta complejidad del cálculo de las llaves privadas de las partes en Diffie Hellman para la obtención de la llave común, el protocolo es susceptible a ataques de tipo Man-in-the-Middle, entre otros, por lo tanto es necesario utilizar algún tipo de autenticación al momento de su implementación, ya sea a partir de PKI, donde una entidad confiable relaciona la identidad del par a su llave pública, uso de firmas digitales, lo cual se puede realizar utilizando RSA, entre otros. Para esta implementación, se omitió la autenticación por cuestiones de tiempo y complejidad, sin embargo, se recalca su alta importancia en el protocolo. \n",
        "\n",
        "\n"
      ]
    },
    {
      "cell_type": "markdown",
      "metadata": {
        "id": "qAzTIbIUCHZW"
      },
      "source": [
        "### **Referencias**"
      ]
    },
    {
      "cell_type": "markdown",
      "metadata": {
        "id": "pHteTAJ1CTTv"
      },
      "source": [
        "Dávid Károlyi. Diffie-Hellman:  The  Genius  Algorithm  Behind  Secure  Network  Communication, 2020. https://www.freecodecamp.org/news/diffie-hellman-key-exchange/. \n",
        "\n",
        "Héctor  Corrales,  Carlos  Cilleruelo, and  Alejandro  Cueva. Criptografía  y  Métodos  de  Cifrado, 2014. http://www3.uah.es/libretics/concurso2014/files2014/Trabajos/Criptografia%20y%20Metodos%20de%20Cifrado.pdf\n",
        "\n",
        "Weber, F. On Generators of Diffie-Hellman-Groups. Florianjw.de. https://florianjw.de/en/insecure_generators.html\n",
        "\n",
        "Anand, A. (2019, 27 noviembre). Breaking Down : SHA-256 Algorithm - InfoSec Write-ups. Medium. https://medium.com/bugbountywriteup/breaking-down-sha-256-algorithm-2ce61d86f7a3\n",
        "\n",
        "Daemen, J., & Rijmen, V. (2003, 9 abril). The Rjindael Block Cipher - AES Proposal. Computer Security Resource Center - NIST. https://csrc.nist.gov/csrc/media/projects/cryptographic-standards-and-guidelines/documents/aes-development/rijndael-ammended.pdf\n",
        "\n",
        "S. Frankel & R. Glenn, & S. Kelly.(2003). RFC3602: The AES-CBC Cipher Algorithm and Its Use with IPsec. RFC Editor, USA. https://tools.ietf.org/pdf/rfc3602.pdf\n",
        "\n",
        "An Introduction To Cryptography. (2009). Next Generation SSH2 Implementation, 41–64. doi:10.1016/b978-1-59749-283-6.00003-9. https://www.sciencedirect.com/science/article/pii/B9781597492836000039\n",
        "\n",
        "Mishra, Manoj & Kar, Jayaprakash. (2017). A study on diffie-hellman key exchange protocols. International Journal of Pure and Apllied Mathematics. 114. 10.12732/ijpam.v114i2.2. https://www.researchgate.net/publication/317339928_A_study_on_diffie-hellman_key_exchange_protocols\n",
        "\n",
        "Razieh, Mokhtarnameh & Nithiapidary, Muthuvelu & Ho, Sin-Ban & Chai, Ian. (2010). A Comparison Study on Key Exchange-Authentication protocol. International Journal of Computer Applications. 7. 10.5120/1161-1459. https://www.researchgate.net/publication/46286685_A_Comparison_Study_on_Key_Exchange-Authentication_protocol\n",
        "\n",
        "Jharbade, K., & Shrivastava, Rajesh . (2012). Network based Security model using Symmetric Key Cryptography (AES 256– Rijndael Algorithm) with Public Key Exchange Protocol (Diffie-Hellman Key Exchange Protocol). IJCSNS International Journal of Computer Science and Network Security. http://www.idc-online.com/technical_references/pdfs/data_communications/Network%20based%20Security%20model%20using%20Symmetric%20Key.pdf\n",
        "\n",
        "Yerram, Bhavani & Bhonagiri, Jaya Krishna. (2019). Security Enhancement Using Modified AES and Diffie–Hellman Key Exchange. 10.1007/978-981-15-1275-9_15. \n",
        "https://link.springer.com/chapter/10.1007/978-981-15-1275-9_15\n",
        "\n",
        "Grace Sophia, S., & Prabakeran, S. (2016). Efficient and Secure Data Sharing Using AES and Diffie Hellman Key Exchange Algorithm in cloud. Middle-East Journal of Scientific Research. https://www.idosi.org/mejsr/mejsr24(IIECS)16/20.pdf\n",
        "\n",
        "Rewagad, Prashant & Pawar, Yogita. (2013). Use of Digital Signature with Diffie Hellman Key Exchange and AES Encryption Algorithm to Enhance Data Security in Cloud Computing. 437-439. 10.1109/CSNT.2013.97. https://ieeexplore.ieee.org/document/6524434\n",
        "\n",
        "\n",
        "\n",
        "\n",
        "\n",
        "\n",
        "\n",
        "####Imagenes\n",
        "\n",
        "1. https://drive.google.com/uc?export=view&id=13xDWLYlwVAWTZnCsHXvIKJ1yEKjspwRI\n",
        "2. https://www.researchgate.net/profile/Muhammad_Mushtaq31/publication/321494910/figure/fig5/AS:568031056273408@1512440565027/Advanced-Encryption-Standard-AES-Algorithm.png\n",
        "3. https://upload.wikimedia.org/wikipedia/commons/thumb/8/80/CBC_encryption.svg/600px-CBC_encryption.svg.png\n",
        "\n",
        "\n"
      ]
    }
  ]
}